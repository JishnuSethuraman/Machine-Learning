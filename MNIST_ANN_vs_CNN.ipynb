{
  "nbformat": 4,
  "nbformat_minor": 0,
  "metadata": {
    "colab": {
      "provenance": [],
      "authorship_tag": "ABX9TyNV8zA/Kc0YgHWqxDbaThPi",
      "include_colab_link": true
    },
    "kernelspec": {
      "name": "python3",
      "display_name": "Python 3"
    },
    "language_info": {
      "name": "python"
    },
    "accelerator": "GPU",
    "gpuClass": "standard"
  },
  "cells": [
    {
      "cell_type": "markdown",
      "metadata": {
        "id": "view-in-github",
        "colab_type": "text"
      },
      "source": [
        "<a href=\"https://colab.research.google.com/github/JishnuSethuraman/Machine-Learning/blob/main/MNIST_ANN_vs_CNN.ipynb\" target=\"_parent\"><img src=\"https://colab.research.google.com/assets/colab-badge.svg\" alt=\"Open In Colab\"/></a>"
      ]
    },
    {
      "cell_type": "code",
      "execution_count": null,
      "metadata": {
        "id": "aj3ZjjC6wutA"
      },
      "outputs": [],
      "source": [
        "import numpy as np\n",
        "import matplotlib.pyplot as plt\n",
        "import pandas as pd\n",
        "import tensorflow as tf\n",
        "from tensorflow import keras"
      ]
    },
    {
      "cell_type": "code",
      "source": [
        "#generating data\n",
        "mnist = keras.datasets.mnist\n",
        "(X_train_full, y_train_full), (X_test,y_test) = mnist.load_data()"
      ],
      "metadata": {
        "colab": {
          "base_uri": "https://localhost:8080/"
        },
        "id": "VwPg_rIjxSib",
        "outputId": "6839ac15-d72f-43d3-bea0-a58170a6a340"
      },
      "execution_count": null,
      "outputs": [
        {
          "output_type": "stream",
          "name": "stdout",
          "text": [
            "Downloading data from https://storage.googleapis.com/tensorflow/tf-keras-datasets/mnist.npz\n",
            "11490434/11490434 [==============================] - 1s 0us/step\n"
          ]
        }
      ]
    },
    {
      "cell_type": "code",
      "source": [
        "#scaling & creaing a validation set\n",
        "X_train, X_valid = X_train_full[:50000]/255.0, X_train_full[50000:]/255.0\n",
        "y_train, y_valid = y_train_full[:50000], y_train_full[50000:]"
      ],
      "metadata": {
        "id": "y8bHfWf4xq7Z"
      },
      "execution_count": null,
      "outputs": []
    },
    {
      "cell_type": "code",
      "source": [
        "X_train.shape"
      ],
      "metadata": {
        "colab": {
          "base_uri": "https://localhost:8080/"
        },
        "id": "wdQjAe4Kyviy",
        "outputId": "3bbd23ff-7e34-4460-b7c1-49648f9b9c9b"
      },
      "execution_count": null,
      "outputs": [
        {
          "output_type": "execute_result",
          "data": {
            "text/plain": [
              "(50000, 28, 28)"
            ]
          },
          "metadata": {},
          "execution_count": 9
        }
      ]
    },
    {
      "cell_type": "code",
      "source": [
        "#building the ANN\n",
        "ann_model = keras.models.Sequential([\n",
        "    keras.layers.Flatten(input_shape=[28,28]),\n",
        "    keras.layers.Dense(300, activation='relu'),\n",
        "    keras.layers.Dropout(rate=0.2),\n",
        "    keras.layers.Dense(100,activation = 'relu'),\n",
        "    keras.layers.Dense(10,activation='softmax',)\n",
        "])\n",
        "#seeing a summar of the model\n",
        "ann_model.summary()"
      ],
      "metadata": {
        "colab": {
          "base_uri": "https://localhost:8080/"
        },
        "id": "svGFg568zH7a",
        "outputId": "78ea56ba-59a2-4488-8f82-c5fbd6ce205a"
      },
      "execution_count": null,
      "outputs": [
        {
          "output_type": "stream",
          "name": "stdout",
          "text": [
            "Model: \"sequential_1\"\n",
            "_________________________________________________________________\n",
            " Layer (type)                Output Shape              Param #   \n",
            "=================================================================\n",
            " flatten_1 (Flatten)         (None, 784)               0         \n",
            "                                                                 \n",
            " dense_3 (Dense)             (None, 300)               235500    \n",
            "                                                                 \n",
            " dropout_1 (Dropout)         (None, 300)               0         \n",
            "                                                                 \n",
            " dense_4 (Dense)             (None, 100)               30100     \n",
            "                                                                 \n",
            " dense_5 (Dense)             (None, 10)                1010      \n",
            "                                                                 \n",
            "=================================================================\n",
            "Total params: 266,610\n",
            "Trainable params: 266,610\n",
            "Non-trainable params: 0\n",
            "_________________________________________________________________\n"
          ]
        }
      ]
    },
    {
      "cell_type": "code",
      "source": [
        "#Plotting the model\n",
        "keras.utils.plot_model(ann_model, show_shapes=True)"
      ],
      "metadata": {
        "id": "89cAnmTH3Zaj"
      },
      "execution_count": null,
      "outputs": []
    },
    {
      "cell_type": "code",
      "source": [
        "#model training\n",
        "ann_model.compile(loss='sparse_categorical_crossentropy', optimizer=keras.optimizers.SGD(learning_rate=0.01),metrics='accuracy')\n",
        "history = ann_model.fit(X_train, y_train, epochs = 30, validation_data=(X_valid, y_valid),batch_size=32)"
      ],
      "metadata": {
        "colab": {
          "base_uri": "https://localhost:8080/"
        },
        "id": "YR1ahYnS3n62",
        "outputId": "18c89c10-bc13-4ed8-a12e-e8992fe2bd1d"
      },
      "execution_count": null,
      "outputs": [
        {
          "output_type": "stream",
          "name": "stdout",
          "text": [
            "Epoch 1/30\n",
            "1563/1563 [==============================] - 6s 3ms/step - loss: 0.0470 - accuracy: 0.9859 - val_loss: 0.0725 - val_accuracy: 0.9795\n",
            "Epoch 2/30\n",
            "1563/1563 [==============================] - 6s 4ms/step - loss: 0.0443 - accuracy: 0.9868 - val_loss: 0.0709 - val_accuracy: 0.9799\n",
            "Epoch 3/30\n",
            "1563/1563 [==============================] - 5s 3ms/step - loss: 0.0430 - accuracy: 0.9875 - val_loss: 0.0720 - val_accuracy: 0.9789\n",
            "Epoch 4/30\n",
            "1563/1563 [==============================] - 5s 3ms/step - loss: 0.0411 - accuracy: 0.9880 - val_loss: 0.0701 - val_accuracy: 0.9805\n",
            "Epoch 5/30\n",
            "1563/1563 [==============================] - 6s 4ms/step - loss: 0.0402 - accuracy: 0.9883 - val_loss: 0.0685 - val_accuracy: 0.9800\n",
            "Epoch 6/30\n",
            "1563/1563 [==============================] - 5s 3ms/step - loss: 0.0393 - accuracy: 0.9888 - val_loss: 0.0686 - val_accuracy: 0.9804\n",
            "Epoch 7/30\n",
            "1563/1563 [==============================] - 6s 4ms/step - loss: 0.0369 - accuracy: 0.9891 - val_loss: 0.0707 - val_accuracy: 0.9804\n",
            "Epoch 8/30\n",
            "1563/1563 [==============================] - 5s 3ms/step - loss: 0.0366 - accuracy: 0.9894 - val_loss: 0.0673 - val_accuracy: 0.9802\n",
            "Epoch 9/30\n",
            "1563/1563 [==============================] - 6s 4ms/step - loss: 0.0345 - accuracy: 0.9898 - val_loss: 0.0677 - val_accuracy: 0.9805\n",
            "Epoch 10/30\n",
            "1563/1563 [==============================] - 5s 3ms/step - loss: 0.0339 - accuracy: 0.9900 - val_loss: 0.0693 - val_accuracy: 0.9806\n",
            "Epoch 11/30\n",
            "1563/1563 [==============================] - 5s 3ms/step - loss: 0.0324 - accuracy: 0.9910 - val_loss: 0.0678 - val_accuracy: 0.9813\n",
            "Epoch 12/30\n",
            "1563/1563 [==============================] - 6s 4ms/step - loss: 0.0318 - accuracy: 0.9911 - val_loss: 0.0677 - val_accuracy: 0.9798\n",
            "Epoch 13/30\n",
            "1563/1563 [==============================] - 5s 3ms/step - loss: 0.0306 - accuracy: 0.9914 - val_loss: 0.0666 - val_accuracy: 0.9809\n",
            "Epoch 14/30\n",
            "1563/1563 [==============================] - 6s 4ms/step - loss: 0.0299 - accuracy: 0.9913 - val_loss: 0.0671 - val_accuracy: 0.9808\n",
            "Epoch 15/30\n",
            "1563/1563 [==============================] - 5s 3ms/step - loss: 0.0291 - accuracy: 0.9916 - val_loss: 0.0671 - val_accuracy: 0.9807\n",
            "Epoch 16/30\n",
            "1563/1563 [==============================] - 6s 4ms/step - loss: 0.0283 - accuracy: 0.9915 - val_loss: 0.0656 - val_accuracy: 0.9809\n",
            "Epoch 17/30\n",
            "1563/1563 [==============================] - 5s 3ms/step - loss: 0.0271 - accuracy: 0.9925 - val_loss: 0.0663 - val_accuracy: 0.9811\n",
            "Epoch 18/30\n",
            "1563/1563 [==============================] - 5s 3ms/step - loss: 0.0256 - accuracy: 0.9928 - val_loss: 0.0661 - val_accuracy: 0.9814\n",
            "Epoch 19/30\n",
            "1563/1563 [==============================] - 5s 3ms/step - loss: 0.0259 - accuracy: 0.9928 - val_loss: 0.0673 - val_accuracy: 0.9812\n",
            "Epoch 20/30\n",
            "1563/1563 [==============================] - 5s 3ms/step - loss: 0.0255 - accuracy: 0.9931 - val_loss: 0.0672 - val_accuracy: 0.9816\n",
            "Epoch 21/30\n",
            "1563/1563 [==============================] - 6s 4ms/step - loss: 0.0253 - accuracy: 0.9926 - val_loss: 0.0656 - val_accuracy: 0.9819\n",
            "Epoch 22/30\n",
            "1563/1563 [==============================] - 5s 3ms/step - loss: 0.0241 - accuracy: 0.9934 - val_loss: 0.0672 - val_accuracy: 0.9811\n",
            "Epoch 23/30\n",
            "1563/1563 [==============================] - 6s 4ms/step - loss: 0.0242 - accuracy: 0.9935 - val_loss: 0.0651 - val_accuracy: 0.9805\n",
            "Epoch 24/30\n",
            "1563/1563 [==============================] - 5s 3ms/step - loss: 0.0226 - accuracy: 0.9937 - val_loss: 0.0666 - val_accuracy: 0.9812\n",
            "Epoch 25/30\n",
            "1563/1563 [==============================] - 6s 4ms/step - loss: 0.0226 - accuracy: 0.9940 - val_loss: 0.0653 - val_accuracy: 0.9823\n",
            "Epoch 26/30\n",
            "1563/1563 [==============================] - 5s 3ms/step - loss: 0.0215 - accuracy: 0.9943 - val_loss: 0.0667 - val_accuracy: 0.9821\n",
            "Epoch 27/30\n",
            "1563/1563 [==============================] - 5s 3ms/step - loss: 0.0197 - accuracy: 0.9947 - val_loss: 0.0671 - val_accuracy: 0.9815\n",
            "Epoch 28/30\n",
            "1563/1563 [==============================] - 6s 4ms/step - loss: 0.0200 - accuracy: 0.9945 - val_loss: 0.0679 - val_accuracy: 0.9819\n",
            "Epoch 29/30\n",
            "1563/1563 [==============================] - 5s 3ms/step - loss: 0.0195 - accuracy: 0.9946 - val_loss: 0.0668 - val_accuracy: 0.9813\n",
            "Epoch 30/30\n",
            "1563/1563 [==============================] - 6s 4ms/step - loss: 0.0182 - accuracy: 0.9954 - val_loss: 0.0674 - val_accuracy: 0.9819\n"
          ]
        }
      ]
    },
    {
      "cell_type": "code",
      "source": [
        "#plotting the learning curves\n",
        "pd.DataFrame(history.history).plot(figsize=(8,5))\n",
        "plt.grid(True)\n",
        "plt.gca().set_ylim(0,1)\n",
        "plt.show()"
      ],
      "metadata": {
        "colab": {
          "base_uri": "https://localhost:8080/",
          "height": 324
        },
        "id": "h3-9s2AR7KI6",
        "outputId": "a1a97f2b-a3e1-4eaf-f55d-58088982e181"
      },
      "execution_count": null,
      "outputs": [
        {
          "output_type": "display_data",
          "data": {
            "text/plain": [
              "<Figure size 576x360 with 1 Axes>"
            ],
            "image/png": "[encoded data removed]"
          },
          "metadata": {
            "needs_background": "light"
          }
        }
      ]
    },
    {
      "cell_type": "code",
      "source": [
        "#creating the CNN\n",
        "cnn_model = keras.Sequential(\n",
        "    [\n",
        "        keras.Input(shape=(28,28,1)),\n",
        "        keras.layers.Conv2D(32, kernel_size=(3,3), activation='relu'),\n",
        "        keras.layers.MaxPooling2D(pool_size=(2,2)),\n",
        "        keras.layers.Conv2D(64, kernel_size=(3,3), activation='relu'),\n",
        "        keras.layers.MaxPooling2D(pool_size=(2,2)),\n",
        "        keras.layers.Flatten(),\n",
        "        keras.layers.Dropout(0.5),\n",
        "        keras.layers.Dense(10, activation = 'softmax'),\n",
        "    ]\n",
        ")"
      ],
      "metadata": {
        "id": "6Vw4HUyM8g9_"
      },
      "execution_count": null,
      "outputs": []
    },
    {
      "cell_type": "code",
      "source": [
        "cnn_model.summary()"
      ],
      "metadata": {
        "colab": {
          "base_uri": "https://localhost:8080/"
        },
        "id": "Q7ubdrGM_41T",
        "outputId": "ab481214-7217-4470-d071-e431440eb15e"
      },
      "execution_count": null,
      "outputs": [
        {
          "output_type": "stream",
          "name": "stdout",
          "text": [
            "Model: \"sequential_2\"\n",
            "_________________________________________________________________\n",
            " Layer (type)                Output Shape              Param #   \n",
            "=================================================================\n",
            " conv2d (Conv2D)             (None, 26, 26, 32)        320       \n",
            "                                                                 \n",
            " max_pooling2d (MaxPooling2D  (None, 13, 13, 32)       0         \n",
            " )                                                               \n",
            "                                                                 \n",
            " conv2d_1 (Conv2D)           (None, 11, 11, 64)        18496     \n",
            "                                                                 \n",
            " max_pooling2d_1 (MaxPooling  (None, 5, 5, 64)         0         \n",
            " 2D)                                                             \n",
            "                                                                 \n",
            " flatten_2 (Flatten)         (None, 1600)              0         \n",
            "                                                                 \n",
            " dropout_2 (Dropout)         (None, 1600)              0         \n",
            "                                                                 \n",
            " dense_6 (Dense)             (None, 10)                16010     \n",
            "                                                                 \n",
            "=================================================================\n",
            "Total params: 34,826\n",
            "Trainable params: 34,826\n",
            "Non-trainable params: 0\n",
            "_________________________________________________________________\n"
          ]
        }
      ]
    },
    {
      "cell_type": "code",
      "source": [
        "#model training\n",
        "cnn_model.compile(loss='sparse_categorical_crossentropy', optimizer=keras.optimizers.SGD(learning_rate=0.01),metrics='accuracy')\n",
        "history = cnn_model.fit(X_train, y_train, epochs = 30, validation_data=(X_valid, y_valid),batch_size=32)"
      ],
      "metadata": {
        "colab": {
          "base_uri": "https://localhost:8080/"
        },
        "id": "t_KEVZbCAaUW",
        "outputId": "04b04683-8803-40ff-d44d-e3ade9789d3f"
      },
      "execution_count": null,
      "outputs": [
        {
          "output_type": "stream",
          "name": "stdout",
          "text": [
            "Epoch 1/30\n",
            "1563/1563 [==============================] - 11s 4ms/step - loss: 0.7598 - accuracy: 0.7616 - val_loss: 0.1959 - val_accuracy: 0.9490\n",
            "Epoch 2/30\n",
            "1563/1563 [==============================] - 6s 4ms/step - loss: 0.2354 - accuracy: 0.9285 - val_loss: 0.1343 - val_accuracy: 0.9629\n",
            "Epoch 3/30\n",
            "1563/1563 [==============================] - 6s 4ms/step - loss: 0.1805 - accuracy: 0.9447 - val_loss: 0.1113 - val_accuracy: 0.9687\n",
            "Epoch 4/30\n",
            "1563/1563 [==============================] - 6s 4ms/step - loss: 0.1528 - accuracy: 0.9541 - val_loss: 0.0970 - val_accuracy: 0.9737\n",
            "Epoch 5/30\n",
            "1563/1563 [==============================] - 5s 4ms/step - loss: 0.1344 - accuracy: 0.9585 - val_loss: 0.0868 - val_accuracy: 0.9754\n",
            "Epoch 6/30\n",
            "1563/1563 [==============================] - 6s 4ms/step - loss: 0.1230 - accuracy: 0.9624 - val_loss: 0.0867 - val_accuracy: 0.9759\n",
            "Epoch 7/30\n",
            "1563/1563 [==============================] - 6s 4ms/step - loss: 0.1133 - accuracy: 0.9660 - val_loss: 0.0754 - val_accuracy: 0.9799\n",
            "Epoch 8/30\n",
            "1563/1563 [==============================] - 6s 4ms/step - loss: 0.1064 - accuracy: 0.9683 - val_loss: 0.0721 - val_accuracy: 0.9802\n",
            "Epoch 9/30\n",
            "1563/1563 [==============================] - 5s 4ms/step - loss: 0.0984 - accuracy: 0.9698 - val_loss: 0.0695 - val_accuracy: 0.9811\n",
            "Epoch 10/30\n",
            "1563/1563 [==============================] - 7s 4ms/step - loss: 0.0944 - accuracy: 0.9708 - val_loss: 0.0657 - val_accuracy: 0.9822\n",
            "Epoch 11/30\n",
            "1563/1563 [==============================] - 6s 4ms/step - loss: 0.0924 - accuracy: 0.9714 - val_loss: 0.0634 - val_accuracy: 0.9830\n",
            "Epoch 12/30\n",
            "1563/1563 [==============================] - 6s 4ms/step - loss: 0.0885 - accuracy: 0.9725 - val_loss: 0.0597 - val_accuracy: 0.9843\n",
            "Epoch 13/30\n",
            "1563/1563 [==============================] - 6s 4ms/step - loss: 0.0815 - accuracy: 0.9756 - val_loss: 0.0584 - val_accuracy: 0.9836\n",
            "Epoch 14/30\n",
            "1563/1563 [==============================] - 6s 4ms/step - loss: 0.0795 - accuracy: 0.9760 - val_loss: 0.0570 - val_accuracy: 0.9842\n",
            "Epoch 15/30\n",
            "1563/1563 [==============================] - 6s 4ms/step - loss: 0.0784 - accuracy: 0.9754 - val_loss: 0.0546 - val_accuracy: 0.9850\n",
            "Epoch 16/30\n",
            "1563/1563 [==============================] - 6s 4ms/step - loss: 0.0756 - accuracy: 0.9761 - val_loss: 0.0542 - val_accuracy: 0.9860\n",
            "Epoch 17/30\n",
            "1563/1563 [==============================] - 6s 4ms/step - loss: 0.0756 - accuracy: 0.9773 - val_loss: 0.0530 - val_accuracy: 0.9854\n",
            "Epoch 18/30\n",
            "1563/1563 [==============================] - 6s 4ms/step - loss: 0.0733 - accuracy: 0.9777 - val_loss: 0.0531 - val_accuracy: 0.9856\n",
            "Epoch 19/30\n",
            "1563/1563 [==============================] - 6s 4ms/step - loss: 0.0695 - accuracy: 0.9782 - val_loss: 0.0504 - val_accuracy: 0.9867\n",
            "Epoch 20/30\n",
            "1563/1563 [==============================] - 7s 4ms/step - loss: 0.0693 - accuracy: 0.9787 - val_loss: 0.0489 - val_accuracy: 0.9865\n",
            "Epoch 21/30\n",
            "1563/1563 [==============================] - 6s 4ms/step - loss: 0.0663 - accuracy: 0.9788 - val_loss: 0.0478 - val_accuracy: 0.9872\n",
            "Epoch 22/30\n",
            "1563/1563 [==============================] - 6s 4ms/step - loss: 0.0664 - accuracy: 0.9794 - val_loss: 0.0484 - val_accuracy: 0.9865\n",
            "Epoch 23/30\n",
            "1563/1563 [==============================] - 6s 4ms/step - loss: 0.0627 - accuracy: 0.9805 - val_loss: 0.0515 - val_accuracy: 0.9856\n",
            "Epoch 24/30\n",
            "1563/1563 [==============================] - 6s 4ms/step - loss: 0.0630 - accuracy: 0.9812 - val_loss: 0.0479 - val_accuracy: 0.9863\n",
            "Epoch 25/30\n",
            "1563/1563 [==============================] - 6s 4ms/step - loss: 0.0616 - accuracy: 0.9807 - val_loss: 0.0473 - val_accuracy: 0.9868\n",
            "Epoch 26/30\n",
            "1563/1563 [==============================] - 6s 4ms/step - loss: 0.0611 - accuracy: 0.9811 - val_loss: 0.0450 - val_accuracy: 0.9875\n",
            "Epoch 27/30\n",
            "1563/1563 [==============================] - 6s 4ms/step - loss: 0.0591 - accuracy: 0.9817 - val_loss: 0.0447 - val_accuracy: 0.9874\n",
            "Epoch 28/30\n",
            "1563/1563 [==============================] - 7s 4ms/step - loss: 0.0597 - accuracy: 0.9815 - val_loss: 0.0449 - val_accuracy: 0.9874\n",
            "Epoch 29/30\n",
            "1563/1563 [==============================] - 6s 4ms/step - loss: 0.0562 - accuracy: 0.9830 - val_loss: 0.0445 - val_accuracy: 0.9871\n",
            "Epoch 30/30\n",
            "1563/1563 [==============================] - 6s 4ms/step - loss: 0.0575 - accuracy: 0.9813 - val_loss: 0.0436 - val_accuracy: 0.9879\n"
          ]
        }
      ]
    },
    {
      "cell_type": "code",
      "source": [
        "#plotting the learning curves\n",
        "pd.DataFrame(history.history).plot(figsize=(8,5))\n",
        "plt.grid(True)\n",
        "plt.gca().set_ylim(0,1)\n",
        "plt.show()"
      ],
      "metadata": {
        "colab": {
          "base_uri": "https://localhost:8080/",
          "height": 324
        },
        "id": "GY_rDsZzBmxg",
        "outputId": "e854a943-70c3-419a-b7df-b2be0671ae07"
      },
      "execution_count": null,
      "outputs": [
        {
          "output_type": "display_data",
          "data": {
            "text/plain": [
              "<Figure size 576x360 with 1 Axes>"
            ],
            "image/png": "[encoded data removed]"
          },
          "metadata": {
            "needs_background": "light"
          }
        }
      ]
    },
    {
      "cell_type": "code",
      "source": [
        "ann_model.evaluate(X_test/255.0,y_test)"
      ],
      "metadata": {
        "colab": {
          "base_uri": "https://localhost:8080/"
        },
        "id": "-uNpBUBLEEZB",
        "outputId": "2339357e-ab44-4fac-acb0-0ed8916aa625"
      },
      "execution_count": null,
      "outputs": [
        {
          "output_type": "stream",
          "name": "stdout",
          "text": [
            "313/313 [==============================] - 1s 2ms/step - loss: 0.0625 - accuracy: 0.9797\n"
          ]
        },
        {
          "output_type": "execute_result",
          "data": {
            "text/plain": [
              "[0.06249982863664627, 0.9797000288963318]"
            ]
          },
          "metadata": {},
          "execution_count": 19
        }
      ]
    },
    {
      "cell_type": "code",
      "source": [
        "cnn_model.evaluate(X_test/255.0,y_test)"
      ],
      "metadata": {
        "colab": {
          "base_uri": "https://localhost:8080/"
        },
        "id": "HbhTtyk6EKpz",
        "outputId": "bce2c338-da68-4ac6-8a3e-3a855b01df14"
      },
      "execution_count": null,
      "outputs": [
        {
          "output_type": "stream",
          "name": "stdout",
          "text": [
            "313/313 [==============================] - 1s 3ms/step - loss: 0.0355 - accuracy: 0.9885\n"
          ]
        },
        {
          "output_type": "execute_result",
          "data": {
            "text/plain": [
              "[0.03554243594408035, 0.9884999990463257]"
            ]
          },
          "metadata": {},
          "execution_count": 20
        }
      ]
    }
  ]
}